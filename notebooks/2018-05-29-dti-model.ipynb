{
 "cells": [
  {
   "cell_type": "code",
   "execution_count": 1,
   "metadata": {},
   "outputs": [
    {
     "name": "stderr",
     "output_type": "stream",
     "text": [
      "/Users/tpawlowski/workspace/dokstud/mri_pipeline/venv/lib/python3.6/site-packages/h5py/__init__.py:36: FutureWarning: Conversion of the second argument of issubdtype from `float` to `np.floating` is deprecated. In future, it will be treated as `np.float64 == np.dtype(float).type`.\n",
      "  from ._conv import register_converters as _register_converters\n"
     ]
    }
   ],
   "source": [
    "import AFQ.data as afd\n",
    "import AFQ.registration as afr\n",
    "data_dict = afd.fetch_hcp([994273])"
   ]
  },
  {
   "cell_type": "code",
   "execution_count": 2,
   "metadata": {},
   "outputs": [],
   "source": [
    "from dipy.reconst import dti\n",
    "from dipy.core.gradients import gradient_table\n",
    "import os.path as op\n",
    "home = op.expanduser('~')\n",
    "gtab = gradient_table(op.join(home, 'AFQ_data/HCP/sub-994273/sess-01/dwi/sub-994273_dwi.bval'), \n",
    "                      op.join(home, 'AFQ_data/HCP/sub-994273/sess-01/dwi/sub-994273_dwi.bvec'),\n",
    "                      b0_threshold=10)"
   ]
  },
  {
   "cell_type": "code",
   "execution_count": 3,
   "metadata": {},
   "outputs": [],
   "source": [
    "import nibabel as nib\n",
    "img = nib.load(op.join(home, 'AFQ_data/HCP/sub-994273/sess-01/dwi/sub-994273_dwi.nii.gz'))\n",
    "data = img.get_data()"
   ]
  },
  {
   "cell_type": "code",
   "execution_count": 4,
   "metadata": {},
   "outputs": [],
   "source": [
    "reference_data = data[..., 0]"
   ]
  },
  {
   "cell_type": "code",
   "execution_count": 5,
   "metadata": {},
   "outputs": [],
   "source": [
    "from dipy.segment.mask import median_otsu\n",
    "_, mask = median_otsu(reference_data, 4, 2, False, dilate=1)"
   ]
  },
  {
   "cell_type": "code",
   "execution_count": 6,
   "metadata": {},
   "outputs": [
    {
     "name": "stdout",
     "output_type": "stream",
     "text": [
      "(145, 174, 145)\n",
      "768172\n",
      "404905\n"
     ]
    }
   ],
   "source": [
    "import numpy as np\n",
    "\n",
    "print(mask.shape)\n",
    "print(np.count_nonzero(mask))\n",
    "\n",
    "for x in range(10):\n",
    "    mask[1:, :, :] = np.logical_and(mask[1:, :, :], mask[:-1, :, :])\n",
    "    mask[:-1, :, :] = np.logical_and(mask[1:, :, :], mask[:-1, :, :])\n",
    "    mask[:, 1:, :] = np.logical_and(mask[:, 1:, :], mask[:, :-1, :])\n",
    "    mask[:, :-1, :] = np.logical_and(mask[:, 1:, :], mask[:, :-1, :])\n",
    "    \n",
    "print(np.count_nonzero(mask))"
   ]
  },
  {
   "cell_type": "code",
   "execution_count": 7,
   "metadata": {},
   "outputs": [],
   "source": [
    "fit_data = data[..., 0, None]"
   ]
  },
  {
   "cell_type": "code",
   "execution_count": null,
   "metadata": {
    "scrolled": true
   },
   "outputs": [
    {
     "name": "stdout",
     "output_type": "stream",
     "text": [
      "Fit data shape (145, 174, 145, 1)\n",
      "Incoming data:  1\n",
      "Register incoming data to the reference image\n",
      "Optimizing level 2 [max iter: 10000]\n",
      "Optimizing level 1 [max iter: 1000]\n",
      "Optimizing level 0 [max iter: 100]\n",
      "Optimizing level 2 [max iter: 10000]\n",
      "Optimizing level 1 [max iter: 1000]\n",
      "Optimizing level 0 [max iter: 100]\n",
      "Optimizing level 2 [max iter: 10000]\n",
      "Optimizing level 1 [max iter: 1000]\n",
      "Optimizing level 0 [max iter: 100]\n",
      "Create full series for this iteration\n",
      "Fit data shape (145, 174, 145, 2)\n",
      "Incoming data:  2\n",
      "Register incoming data to the reference image\n",
      "Optimizing level 2 [max iter: 10000]\n",
      "Optimizing level 1 [max iter: 1000]\n",
      "Optimizing level 0 [max iter: 100]\n",
      "Optimizing level 2 [max iter: 10000]\n",
      "Optimizing level 1 [max iter: 1000]\n",
      "Optimizing level 0 [max iter: 100]\n",
      "Optimizing level 2 [max iter: 10000]\n",
      "Optimizing level 1 [max iter: 1000]\n",
      "Optimizing level 0 [max iter: 100]\n",
      "Create full series for this iteration\n",
      "Fit data shape (145, 174, 145, 3)\n",
      "Incoming data:  3\n",
      "Register incoming data to the reference image\n",
      "Optimizing level 2 [max iter: 10000]\n",
      "Optimizing level 1 [max iter: 1000]\n",
      "Optimizing level 0 [max iter: 100]\n",
      "Optimizing level 2 [max iter: 10000]\n",
      "Optimizing level 1 [max iter: 1000]\n",
      "Optimizing level 0 [max iter: 100]\n",
      "Optimizing level 2 [max iter: 10000]\n",
      "Optimizing level 1 [max iter: 1000]\n",
      "Optimizing level 0 [max iter: 100]\n",
      "Create full series for this iteration\n",
      "Fit data shape (145, 174, 145, 4)\n",
      "Incoming data:  4\n",
      "Register incoming data to the reference image\n",
      "Optimizing level 2 [max iter: 10000]\n",
      "Optimizing level 1 [max iter: 1000]\n",
      "Optimizing level 0 [max iter: 100]\n",
      "Optimizing level 2 [max iter: 10000]\n",
      "Optimizing level 1 [max iter: 1000]\n",
      "Optimizing level 0 [max iter: 100]\n",
      "Optimizing level 2 [max iter: 10000]\n",
      "Optimizing level 1 [max iter: 1000]\n",
      "Optimizing level 0 [max iter: 100]\n",
      "Create full series for this iteration\n",
      "Fit data shape (145, 174, 145, 5)\n",
      "Incoming data:  5\n",
      "Register incoming data to the reference image\n",
      "Optimizing level 2 [max iter: 10000]\n",
      "Optimizing level 1 [max iter: 1000]\n",
      "Optimizing level 0 [max iter: 100]\n",
      "Optimizing level 2 [max iter: 10000]\n",
      "Optimizing level 1 [max iter: 1000]\n",
      "Optimizing level 0 [max iter: 100]\n",
      "Optimizing level 2 [max iter: 10000]\n",
      "Optimizing level 1 [max iter: 1000]\n",
      "Optimizing level 0 [max iter: 100]\n",
      "Create full series for this iteration\n",
      "Fit data shape (145, 174, 145, 6)\n",
      "Incoming data:  6\n",
      "Register incoming data to the reference image\n",
      "Optimizing level 2 [max iter: 10000]\n",
      "Optimizing level 1 [max iter: 1000]\n",
      "Optimizing level 0 [max iter: 100]\n",
      "Optimizing level 2 [max iter: 10000]\n",
      "Optimizing level 1 [max iter: 1000]\n",
      "Optimizing level 0 [max iter: 100]\n",
      "Optimizing level 2 [max iter: 10000]\n",
      "Optimizing level 1 [max iter: 1000]\n",
      "Optimizing level 0 [max iter: 100]\n",
      "Create full series for this iteration\n",
      "Fit data shape (145, 174, 145, 7)\n",
      "Incoming data:  7\n",
      "Register incoming data to the reference image\n",
      "Optimizing level 2 [max iter: 10000]\n",
      "Optimizing level 1 [max iter: 1000]\n",
      "Optimizing level 0 [max iter: 100]\n",
      "Optimizing level 2 [max iter: 10000]\n",
      "Optimizing level 1 [max iter: 1000]\n",
      "Optimizing level 0 [max iter: 100]\n",
      "Optimizing level 2 [max iter: 10000]\n",
      "Optimizing level 1 [max iter: 1000]\n",
      "Optimizing level 0 [max iter: 100]\n",
      "Create full series for this iteration\n",
      "Fit data shape (145, 174, 145, 8)\n",
      "Incoming data:  8\n",
      "Register incoming data to the reference image\n",
      "Optimizing level 2 [max iter: 10000]\n",
      "Optimizing level 1 [max iter: 1000]\n",
      "Optimizing level 0 [max iter: 100]\n",
      "Optimizing level 2 [max iter: 10000]\n",
      "Optimizing level 1 [max iter: 1000]\n",
      "Optimizing level 0 [max iter: 100]\n",
      "Optimizing level 2 [max iter: 10000]\n",
      "Optimizing level 1 [max iter: 1000]\n",
      "Optimizing level 0 [max iter: 100]\n",
      "Create full series for this iteration\n",
      "Fit data shape (145, 174, 145, 9)\n",
      "Incoming data:  9\n",
      "Register incoming data to the reference image\n",
      "Optimizing level 2 [max iter: 10000]\n",
      "Optimizing level 1 [max iter: 1000]\n",
      "Optimizing level 0 [max iter: 100]\n"
     ]
    }
   ],
   "source": [
    "big_delta = 0.0365  # seconds\n",
    "small_delta = 0.0157  # seconds\n",
    "\n",
    "for idx in np.arange(1, 288):\n",
    "    print(\"Fit data shape {0}\".format(fit_data.shape))\n",
    "    \n",
    "    print(\"Incoming data: \", idx)\n",
    "    this_data = data[..., idx]\n",
    "\n",
    "    print(\"Register incoming data to the reference image\")\n",
    "    this_data, _ = afr.affine_registration(this_data,\n",
    "                                                    reference_data)\n",
    "    print(\"Create full series for this iteration\")\n",
    "    fit_data = np.concatenate([fit_data, this_data[..., None]], axis=-1)\n",
    "    \n",
    "    if idx > 20:\n",
    "        print(\"Create the gradient table for this iteration\")\n",
    "        this_gtab = gradient_table(bvals=gtab.bvals[:idx + 1], \n",
    "                                   bvecs=gtab.bvecs[:idx + 1],\n",
    "                                   big_delta=big_delta,\n",
    "                                   small_delta=small_delta, \n",
    "                                   b0_threshold=10)\n",
    "\n",
    "        print(\"Initialize model\")\n",
    "        this_model = dti.TensorModel(this_gtab)\n",
    "\n",
    "        print(\"Fit the model in each voxel\")\n",
    "        this_model.fit(fit_data, mask=mask)"
   ]
  },
  {
   "cell_type": "code",
   "execution_count": null,
   "metadata": {},
   "outputs": [],
   "source": []
  }
 ],
 "metadata": {
  "kernelspec": {
   "display_name": "Python 3",
   "language": "python",
   "name": "python3"
  },
  "language_info": {
   "codemirror_mode": {
    "name": "ipython",
    "version": 3
   },
   "file_extension": ".py",
   "mimetype": "text/x-python",
   "name": "python",
   "nbconvert_exporter": "python",
   "pygments_lexer": "ipython3",
   "version": "3.6.4"
  }
 },
 "nbformat": 4,
 "nbformat_minor": 2
}
